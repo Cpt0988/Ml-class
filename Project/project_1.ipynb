{
  "nbformat": 4,
  "nbformat_minor": 0,
  "metadata": {
    "colab": {
      "provenance": [],
      "authorship_tag": "ABX9TyOPjli+ni6iKXGLUMy6S/YF",
      "include_colab_link": true
    },
    "kernelspec": {
      "name": "python3",
      "display_name": "Python 3"
    },
    "language_info": {
      "name": "python"
    },
    "gpuClass": "standard"
  },
  "cells": [
    {
      "cell_type": "markdown",
      "metadata": {
        "id": "view-in-github",
        "colab_type": "text"
      },
      "source": [
        "<a href=\"https://colab.research.google.com/github/Cpt0988/Ml-class/blob/main/Project/project_1.ipynb\" target=\"_parent\"><img src=\"https://colab.research.google.com/assets/colab-badge.svg\" alt=\"Open In Colab\"/></a>"
      ]
    },
    {
      "cell_type": "code",
      "execution_count": null,
      "metadata": {
        "id": "63dgSNUPxzEs"
      },
      "outputs": [],
      "source": []
    },
    {
      "cell_type": "markdown",
      "source": [
        "\n",
        "General Readme on Projects\n",
        "The data file\n",
        "https://raw.githubusercontent.com/zacharski/ml-class/master/data/bach.zip\n",
        "\n",
        "Note that the data file is a compressed zip file. You will need to download it, unzip it, and then load it into a Pandas DataFrame. I wanted to give you a bit of practice in getting data in a variety of formats.\n",
        "\n",
        "Chords\n",
        "A chord in music is a set of notes played together. For example, if you play the notes C, E, and G together they would form a C major chord. If you played A, C, and E together, they would form an A minor chord. Your task is to predict the chord based on the notes played and several other features. The chord_label column is what you are predicting. When you see a capital M in that column, as in C_M that stands for major (in this case C major) and a small m represents minor, so G_m is G minor.\n",
        "\n",
        "Bach Chorales\n",
        "The dataset is of Johann Sebastian Bach's chorales and cantatas. Bach was very prolific and over 1,000 of his works still survive (some believe he composed over 10,000 pieces). Because of this, scholars have associated a identification number to each existing composition. This number is called BWV which stands for Bach-Werke-Verzeichnis. The choral_ID column in the dataset refers to this number. For example, the first row of the dataset and a choral_ID of 000106b_, which stands for BWV106. If you did a Google search on this you would see it refers to the cantata: Gottes Zeit ist die allerbeste Zeit. You should not use the column choral_ID. The next column in the dataset is event_number which refers to a unique position in that composition. I am not sure whether you would get better accuracy by dropping the column or including it. . Starting with the next column are the 12 notes of a Western Scale: C, C#, D, D#, E, F, F#, G, G#, A, A#, B. A yes in the column indicates that that note is currently being played during the specific event. So the first row of the data indicates that a C, F, and A are being played. The bass column represents what note is being played in the bass and the meter column represents the meter (how many beats per measure).\n",
        "\n",
        "Optional Bonus XP\n",
        "If you want to try to obtain additional xp you need to divide the data intro training and testing using the following\n",
        "\n",
        "from sklearn.model_selection import train_test_split\n",
        "bach_train_features, bach_test_features, bach_train_labels, bach_test_labels = train_test_split(bFeatures, bLabels, test_size = 0.2, random_state=42)\n",
        "this will give everyone the same test set (random_state=42 is what enables this)\n",
        "\n",
        "Bonus:\n",
        "\n",
        "bonus\tcriteria\n",
        "xp = (accuracy - 74) * 2\taccuracy between 74-80. The formula is\n",
        "xp = 15+ (accuracy - 80)\tbetter than .8 accuracy\n",
        "20\tthird best in class\n",
        "25\tsecond best in class\n",
        "30\tfirst in class"
      ],
      "metadata": {
        "id": "M2LLpVE1x2zb"
      }
    },
    {
      "cell_type": "code",
      "source": [],
      "metadata": {
        "id": "TM692wT9Jovy"
      },
      "execution_count": null,
      "outputs": []
    },
    {
      "cell_type": "code",
      "source": [],
      "metadata": {
        "id": "_2MDctaKJokJ"
      },
      "execution_count": null,
      "outputs": []
    },
    {
      "cell_type": "code",
      "source": [],
      "metadata": {
        "id": "dwfsoFDqJqBo"
      },
      "execution_count": null,
      "outputs": []
    },
    {
      "cell_type": "markdown",
      "source": [
        "First, I need to do is get the data and unzip the bach files.\n",
        "Then I imported the pandas library to read the contents of the CSV into a dataframe callde 'bach'."
      ],
      "metadata": {
        "id": "UsrKuIhL-Xji"
      }
    },
    {
      "cell_type": "code",
      "source": [
        "!wget https://raw.githubusercontent.com/zacharski/ml-class/master/data/bach.zip\n",
        "!unzip bach.zip\n",
        "import pandas as pd\n",
        "bach=pd.read_csv('bach.csv')\n",
        " \n",
        "bach\n"
      ],
      "metadata": {
        "colab": {
          "base_uri": "https://localhost:8080/",
          "height": 713
        },
        "id": "_tkhmnupyIrn",
        "outputId": "3da47d71-fc5f-4cf3-a85e-8c02421d92a4"
      },
      "execution_count": 1,
      "outputs": [
        {
          "output_type": "stream",
          "name": "stdout",
          "text": [
            "--2023-04-13 01:23:23--  https://raw.githubusercontent.com/zacharski/ml-class/master/data/bach.zip\n",
            "Resolving raw.githubusercontent.com (raw.githubusercontent.com)... 185.199.110.133, 185.199.111.133, 185.199.109.133, ...\n",
            "Connecting to raw.githubusercontent.com (raw.githubusercontent.com)|185.199.110.133|:443... connected.\n",
            "HTTP request sent, awaiting response... 200 OK\n",
            "Length: 41761 (41K) [application/zip]\n",
            "Saving to: ‘bach.zip’\n",
            "\n",
            "bach.zip            100%[===================>]  40.78K  --.-KB/s    in 0.009s  \n",
            "\n",
            "2023-04-13 01:23:23 (4.35 MB/s) - ‘bach.zip’ saved [41761/41761]\n",
            "\n",
            "Archive:  bach.zip\n",
            "  inflating: bach.csv                \n"
          ]
        },
        {
          "output_type": "execute_result",
          "data": {
            "text/plain": [
              "     choral_ID  event_number    C  C#    D  D#    E    F  F#    G  G#    A  \\\n",
              "0     000106b_             1  YES  NO   NO  NO   NO  YES  NO   NO  NO  YES   \n",
              "1     000106b_             2  YES  NO   NO  NO  YES   NO  NO  YES  NO   NO   \n",
              "2     000106b_             3  YES  NO   NO  NO  YES   NO  NO  YES  NO   NO   \n",
              "3     000106b_             4  YES  NO   NO  NO   NO  YES  NO   NO  NO  YES   \n",
              "4     000106b_             5  YES  NO   NO  NO   NO  YES  NO   NO  NO  YES   \n",
              "...        ...           ...  ...  ..  ...  ..  ...  ...  ..  ...  ..  ...   \n",
              "5660  015505b_           105   NO  NO  YES  NO   NO   NO  NO  YES  NO   NO   \n",
              "5661  015505b_           106   NO  NO  YES  NO   NO   NO  NO  YES  NO  YES   \n",
              "5662  015505b_           107  YES  NO   NO  NO  YES   NO  NO  YES  NO   NO   \n",
              "5663  015505b_           108  YES  NO   NO  NO  YES   NO  NO  YES  NO   NO   \n",
              "5664  015505b_           109   NO  NO   NO  NO   NO  YES  NO   NO  NO  YES   \n",
              "\n",
              "       A#   B bass  meter chord_label  \n",
              "0      NO  NO    F      3         F_M  \n",
              "1      NO  NO    E      5         C_M  \n",
              "2      NO  NO    E      2         C_M  \n",
              "3      NO  NO    F      3         F_M  \n",
              "4      NO  NO    F      2         F_M  \n",
              "...   ...  ..  ...    ...         ...  \n",
              "5660  YES  NO    G      4         G_m  \n",
              "5661   NO  NO    G      3         G_m  \n",
              "5662   NO  NO    C      5         C_M  \n",
              "5663  YES  NO    C      3         C_M  \n",
              "5664   NO  NO    F      4         F_M  \n",
              "\n",
              "[5665 rows x 17 columns]"
            ],
            "text/html": [
              "\n",
              "  <div id=\"df-d1ff914f-9ad4-43d6-8546-c8cd60faf09a\">\n",
              "    <div class=\"colab-df-container\">\n",
              "      <div>\n",
              "<style scoped>\n",
              "    .dataframe tbody tr th:only-of-type {\n",
              "        vertical-align: middle;\n",
              "    }\n",
              "\n",
              "    .dataframe tbody tr th {\n",
              "        vertical-align: top;\n",
              "    }\n",
              "\n",
              "    .dataframe thead th {\n",
              "        text-align: right;\n",
              "    }\n",
              "</style>\n",
              "<table border=\"1\" class=\"dataframe\">\n",
              "  <thead>\n",
              "    <tr style=\"text-align: right;\">\n",
              "      <th></th>\n",
              "      <th>choral_ID</th>\n",
              "      <th>event_number</th>\n",
              "      <th>C</th>\n",
              "      <th>C#</th>\n",
              "      <th>D</th>\n",
              "      <th>D#</th>\n",
              "      <th>E</th>\n",
              "      <th>F</th>\n",
              "      <th>F#</th>\n",
              "      <th>G</th>\n",
              "      <th>G#</th>\n",
              "      <th>A</th>\n",
              "      <th>A#</th>\n",
              "      <th>B</th>\n",
              "      <th>bass</th>\n",
              "      <th>meter</th>\n",
              "      <th>chord_label</th>\n",
              "    </tr>\n",
              "  </thead>\n",
              "  <tbody>\n",
              "    <tr>\n",
              "      <th>0</th>\n",
              "      <td>000106b_</td>\n",
              "      <td>1</td>\n",
              "      <td>YES</td>\n",
              "      <td>NO</td>\n",
              "      <td>NO</td>\n",
              "      <td>NO</td>\n",
              "      <td>NO</td>\n",
              "      <td>YES</td>\n",
              "      <td>NO</td>\n",
              "      <td>NO</td>\n",
              "      <td>NO</td>\n",
              "      <td>YES</td>\n",
              "      <td>NO</td>\n",
              "      <td>NO</td>\n",
              "      <td>F</td>\n",
              "      <td>3</td>\n",
              "      <td>F_M</td>\n",
              "    </tr>\n",
              "    <tr>\n",
              "      <th>1</th>\n",
              "      <td>000106b_</td>\n",
              "      <td>2</td>\n",
              "      <td>YES</td>\n",
              "      <td>NO</td>\n",
              "      <td>NO</td>\n",
              "      <td>NO</td>\n",
              "      <td>YES</td>\n",
              "      <td>NO</td>\n",
              "      <td>NO</td>\n",
              "      <td>YES</td>\n",
              "      <td>NO</td>\n",
              "      <td>NO</td>\n",
              "      <td>NO</td>\n",
              "      <td>NO</td>\n",
              "      <td>E</td>\n",
              "      <td>5</td>\n",
              "      <td>C_M</td>\n",
              "    </tr>\n",
              "    <tr>\n",
              "      <th>2</th>\n",
              "      <td>000106b_</td>\n",
              "      <td>3</td>\n",
              "      <td>YES</td>\n",
              "      <td>NO</td>\n",
              "      <td>NO</td>\n",
              "      <td>NO</td>\n",
              "      <td>YES</td>\n",
              "      <td>NO</td>\n",
              "      <td>NO</td>\n",
              "      <td>YES</td>\n",
              "      <td>NO</td>\n",
              "      <td>NO</td>\n",
              "      <td>NO</td>\n",
              "      <td>NO</td>\n",
              "      <td>E</td>\n",
              "      <td>2</td>\n",
              "      <td>C_M</td>\n",
              "    </tr>\n",
              "    <tr>\n",
              "      <th>3</th>\n",
              "      <td>000106b_</td>\n",
              "      <td>4</td>\n",
              "      <td>YES</td>\n",
              "      <td>NO</td>\n",
              "      <td>NO</td>\n",
              "      <td>NO</td>\n",
              "      <td>NO</td>\n",
              "      <td>YES</td>\n",
              "      <td>NO</td>\n",
              "      <td>NO</td>\n",
              "      <td>NO</td>\n",
              "      <td>YES</td>\n",
              "      <td>NO</td>\n",
              "      <td>NO</td>\n",
              "      <td>F</td>\n",
              "      <td>3</td>\n",
              "      <td>F_M</td>\n",
              "    </tr>\n",
              "    <tr>\n",
              "      <th>4</th>\n",
              "      <td>000106b_</td>\n",
              "      <td>5</td>\n",
              "      <td>YES</td>\n",
              "      <td>NO</td>\n",
              "      <td>NO</td>\n",
              "      <td>NO</td>\n",
              "      <td>NO</td>\n",
              "      <td>YES</td>\n",
              "      <td>NO</td>\n",
              "      <td>NO</td>\n",
              "      <td>NO</td>\n",
              "      <td>YES</td>\n",
              "      <td>NO</td>\n",
              "      <td>NO</td>\n",
              "      <td>F</td>\n",
              "      <td>2</td>\n",
              "      <td>F_M</td>\n",
              "    </tr>\n",
              "    <tr>\n",
              "      <th>...</th>\n",
              "      <td>...</td>\n",
              "      <td>...</td>\n",
              "      <td>...</td>\n",
              "      <td>...</td>\n",
              "      <td>...</td>\n",
              "      <td>...</td>\n",
              "      <td>...</td>\n",
              "      <td>...</td>\n",
              "      <td>...</td>\n",
              "      <td>...</td>\n",
              "      <td>...</td>\n",
              "      <td>...</td>\n",
              "      <td>...</td>\n",
              "      <td>...</td>\n",
              "      <td>...</td>\n",
              "      <td>...</td>\n",
              "      <td>...</td>\n",
              "    </tr>\n",
              "    <tr>\n",
              "      <th>5660</th>\n",
              "      <td>015505b_</td>\n",
              "      <td>105</td>\n",
              "      <td>NO</td>\n",
              "      <td>NO</td>\n",
              "      <td>YES</td>\n",
              "      <td>NO</td>\n",
              "      <td>NO</td>\n",
              "      <td>NO</td>\n",
              "      <td>NO</td>\n",
              "      <td>YES</td>\n",
              "      <td>NO</td>\n",
              "      <td>NO</td>\n",
              "      <td>YES</td>\n",
              "      <td>NO</td>\n",
              "      <td>G</td>\n",
              "      <td>4</td>\n",
              "      <td>G_m</td>\n",
              "    </tr>\n",
              "    <tr>\n",
              "      <th>5661</th>\n",
              "      <td>015505b_</td>\n",
              "      <td>106</td>\n",
              "      <td>NO</td>\n",
              "      <td>NO</td>\n",
              "      <td>YES</td>\n",
              "      <td>NO</td>\n",
              "      <td>NO</td>\n",
              "      <td>NO</td>\n",
              "      <td>NO</td>\n",
              "      <td>YES</td>\n",
              "      <td>NO</td>\n",
              "      <td>YES</td>\n",
              "      <td>NO</td>\n",
              "      <td>NO</td>\n",
              "      <td>G</td>\n",
              "      <td>3</td>\n",
              "      <td>G_m</td>\n",
              "    </tr>\n",
              "    <tr>\n",
              "      <th>5662</th>\n",
              "      <td>015505b_</td>\n",
              "      <td>107</td>\n",
              "      <td>YES</td>\n",
              "      <td>NO</td>\n",
              "      <td>NO</td>\n",
              "      <td>NO</td>\n",
              "      <td>YES</td>\n",
              "      <td>NO</td>\n",
              "      <td>NO</td>\n",
              "      <td>YES</td>\n",
              "      <td>NO</td>\n",
              "      <td>NO</td>\n",
              "      <td>NO</td>\n",
              "      <td>NO</td>\n",
              "      <td>C</td>\n",
              "      <td>5</td>\n",
              "      <td>C_M</td>\n",
              "    </tr>\n",
              "    <tr>\n",
              "      <th>5663</th>\n",
              "      <td>015505b_</td>\n",
              "      <td>108</td>\n",
              "      <td>YES</td>\n",
              "      <td>NO</td>\n",
              "      <td>NO</td>\n",
              "      <td>NO</td>\n",
              "      <td>YES</td>\n",
              "      <td>NO</td>\n",
              "      <td>NO</td>\n",
              "      <td>YES</td>\n",
              "      <td>NO</td>\n",
              "      <td>NO</td>\n",
              "      <td>YES</td>\n",
              "      <td>NO</td>\n",
              "      <td>C</td>\n",
              "      <td>3</td>\n",
              "      <td>C_M</td>\n",
              "    </tr>\n",
              "    <tr>\n",
              "      <th>5664</th>\n",
              "      <td>015505b_</td>\n",
              "      <td>109</td>\n",
              "      <td>NO</td>\n",
              "      <td>NO</td>\n",
              "      <td>NO</td>\n",
              "      <td>NO</td>\n",
              "      <td>NO</td>\n",
              "      <td>YES</td>\n",
              "      <td>NO</td>\n",
              "      <td>NO</td>\n",
              "      <td>NO</td>\n",
              "      <td>YES</td>\n",
              "      <td>NO</td>\n",
              "      <td>NO</td>\n",
              "      <td>F</td>\n",
              "      <td>4</td>\n",
              "      <td>F_M</td>\n",
              "    </tr>\n",
              "  </tbody>\n",
              "</table>\n",
              "<p>5665 rows × 17 columns</p>\n",
              "</div>\n",
              "      <button class=\"colab-df-convert\" onclick=\"convertToInteractive('df-d1ff914f-9ad4-43d6-8546-c8cd60faf09a')\"\n",
              "              title=\"Convert this dataframe to an interactive table.\"\n",
              "              style=\"display:none;\">\n",
              "        \n",
              "  <svg xmlns=\"http://www.w3.org/2000/svg\" height=\"24px\"viewBox=\"0 0 24 24\"\n",
              "       width=\"24px\">\n",
              "    <path d=\"M0 0h24v24H0V0z\" fill=\"none\"/>\n",
              "    <path d=\"M18.56 5.44l.94 2.06.94-2.06 2.06-.94-2.06-.94-.94-2.06-.94 2.06-2.06.94zm-11 1L8.5 8.5l.94-2.06 2.06-.94-2.06-.94L8.5 2.5l-.94 2.06-2.06.94zm10 10l.94 2.06.94-2.06 2.06-.94-2.06-.94-.94-2.06-.94 2.06-2.06.94z\"/><path d=\"M17.41 7.96l-1.37-1.37c-.4-.4-.92-.59-1.43-.59-.52 0-1.04.2-1.43.59L10.3 9.45l-7.72 7.72c-.78.78-.78 2.05 0 2.83L4 21.41c.39.39.9.59 1.41.59.51 0 1.02-.2 1.41-.59l7.78-7.78 2.81-2.81c.8-.78.8-2.07 0-2.86zM5.41 20L4 18.59l7.72-7.72 1.47 1.35L5.41 20z\"/>\n",
              "  </svg>\n",
              "      </button>\n",
              "      \n",
              "  <style>\n",
              "    .colab-df-container {\n",
              "      display:flex;\n",
              "      flex-wrap:wrap;\n",
              "      gap: 12px;\n",
              "    }\n",
              "\n",
              "    .colab-df-convert {\n",
              "      background-color: #E8F0FE;\n",
              "      border: none;\n",
              "      border-radius: 50%;\n",
              "      cursor: pointer;\n",
              "      display: none;\n",
              "      fill: #1967D2;\n",
              "      height: 32px;\n",
              "      padding: 0 0 0 0;\n",
              "      width: 32px;\n",
              "    }\n",
              "\n",
              "    .colab-df-convert:hover {\n",
              "      background-color: #E2EBFA;\n",
              "      box-shadow: 0px 1px 2px rgba(60, 64, 67, 0.3), 0px 1px 3px 1px rgba(60, 64, 67, 0.15);\n",
              "      fill: #174EA6;\n",
              "    }\n",
              "\n",
              "    [theme=dark] .colab-df-convert {\n",
              "      background-color: #3B4455;\n",
              "      fill: #D2E3FC;\n",
              "    }\n",
              "\n",
              "    [theme=dark] .colab-df-convert:hover {\n",
              "      background-color: #434B5C;\n",
              "      box-shadow: 0px 1px 3px 1px rgba(0, 0, 0, 0.15);\n",
              "      filter: drop-shadow(0px 1px 2px rgba(0, 0, 0, 0.3));\n",
              "      fill: #FFFFFF;\n",
              "    }\n",
              "  </style>\n",
              "\n",
              "      <script>\n",
              "        const buttonEl =\n",
              "          document.querySelector('#df-d1ff914f-9ad4-43d6-8546-c8cd60faf09a button.colab-df-convert');\n",
              "        buttonEl.style.display =\n",
              "          google.colab.kernel.accessAllowed ? 'block' : 'none';\n",
              "\n",
              "        async function convertToInteractive(key) {\n",
              "          const element = document.querySelector('#df-d1ff914f-9ad4-43d6-8546-c8cd60faf09a');\n",
              "          const dataTable =\n",
              "            await google.colab.kernel.invokeFunction('convertToInteractive',\n",
              "                                                     [key], {});\n",
              "          if (!dataTable) return;\n",
              "\n",
              "          const docLinkHtml = 'Like what you see? Visit the ' +\n",
              "            '<a target=\"_blank\" href=https://colab.research.google.com/notebooks/data_table.ipynb>data table notebook</a>'\n",
              "            + ' to learn more about interactive tables.';\n",
              "          element.innerHTML = '';\n",
              "          dataTable['output_type'] = 'display_data';\n",
              "          await google.colab.output.renderOutput(dataTable, element);\n",
              "          const docLink = document.createElement('div');\n",
              "          docLink.innerHTML = docLinkHtml;\n",
              "          element.appendChild(docLink);\n",
              "        }\n",
              "      </script>\n",
              "    </div>\n",
              "  </div>\n",
              "  "
            ]
          },
          "metadata": {},
          "execution_count": 1
        }
      ]
    },
    {
      "cell_type": "markdown",
      "source": [
        "Next, I created a list of columns name that was contain in the 'bach' dataframe using the columns attribute of the the pandas dataframe.Then, I remove the column that I determine useful or unnessary in the analyzation . \n",
        "\n",
        "Then I create my freature and label set. The freature set represent the the pitch and meter information. That I replace 'yes' and 'no' values into '1' for 'yes' and '0' for 'no. The label set I use the 'choral_ID' column for the data frame and us the appply function to each value in the columns. Which converts the categorical labels to numerical codes using the pd.Categorical() function and the codes attribute."
      ],
      "metadata": {
        "id": "T8BfFYgzCDAd"
      }
    },
    {
      "cell_type": "code",
      "source": [
        "featureName= list(bach.columns)\n",
        "featureName.remove('choral_ID')\n",
        "featureName.remove('event_number')\n",
        "#featureName.remove('meter')\n",
        "featureName.remove('chord_label')\n",
        "featureName.remove('bass')\n",
        "\n",
        "# convert to number vaule \n",
        "bf = bach[['C','C#','D','D#','E','F','F#','G','G#','A','A#','B','meter']].replace({'NO':0, 'YES':1})\n",
        "bl= bach[['chord_label']].apply(lambda x: pd.Categorical(x).codes)\n"
      ],
      "metadata": {
        "id": "DmTSBdClBpP0"
      },
      "execution_count": 2,
      "outputs": []
    },
    {
      "cell_type": "markdown",
      "source": [
        "Next,I use the sklearn.model_selection to split the Bach dataset into training and testing sets. The function randomly splits the data into two subsets: a training set and a testing set. The test_size parameter is set to 0.2, which means that 20% of the data will be used for testing, and the remaining 80% will be used for training.I set the random state parameter to ensure that the same random value is used evreytime.\n",
        "\n",
        "I get my 'train_test_split()' function to return four variables. My train lables and train features are the training data, which will be use to train the machine. The test labels and test features are use to evaluate the perfomance of the machine.\n",
        "\n",
        "---\n",
        "\n"
      ],
      "metadata": {
        "id": "jJ0L9XH0HRgt"
      }
    },
    {
      "cell_type": "code",
      "source": [
        "# Split data into train and test sets\n",
        "from sklearn.model_selection import train_test_split\n",
        "bach_train_features, bach_test_features, bach_train_labels, bach_test_labels = train_test_split(bf, bl, test_size = 0.2, random_state=42)\n",
        "\n"
      ],
      "metadata": {
        "id": "TdFi1jgCBo-B"
      },
      "execution_count": 3,
      "outputs": []
    },
    {
      "cell_type": "markdown",
      "source": [
        "Next, I call out the 'sklearn.tree import DecisionTreeClassifier' to create a decision tree classifer call 'clf'. Then I set parameter, the criterion use to determine the quality of the split and max_depth is limits the depth of the tree to prevent overfitting.\n",
        "\n",
        "Then, I call the fit function to train the decision tree with the train features and train label."
      ],
      "metadata": {
        "id": "0wrRgcHHJvAQ"
      }
    },
    {
      "cell_type": "code",
      "source": [
        "from sklearn.tree import DecisionTreeClassifier\n",
        "clf = DecisionTreeClassifier(criterion='entropy',max_depth=100)\n",
        "clf.fit(bach_train_features, bach_train_labels)\n"
      ],
      "metadata": {
        "colab": {
          "base_uri": "https://localhost:8080/",
          "height": 75
        },
        "id": "1vapQ2vOBotL",
        "outputId": "8b7b87be-f397-494f-cf93-8e246ac05870"
      },
      "execution_count": 4,
      "outputs": [
        {
          "output_type": "execute_result",
          "data": {
            "text/plain": [
              "DecisionTreeClassifier(criterion='entropy', max_depth=100)"
            ],
            "text/html": [
              "<style>#sk-container-id-1 {color: black;background-color: white;}#sk-container-id-1 pre{padding: 0;}#sk-container-id-1 div.sk-toggleable {background-color: white;}#sk-container-id-1 label.sk-toggleable__label {cursor: pointer;display: block;width: 100%;margin-bottom: 0;padding: 0.3em;box-sizing: border-box;text-align: center;}#sk-container-id-1 label.sk-toggleable__label-arrow:before {content: \"▸\";float: left;margin-right: 0.25em;color: #696969;}#sk-container-id-1 label.sk-toggleable__label-arrow:hover:before {color: black;}#sk-container-id-1 div.sk-estimator:hover label.sk-toggleable__label-arrow:before {color: black;}#sk-container-id-1 div.sk-toggleable__content {max-height: 0;max-width: 0;overflow: hidden;text-align: left;background-color: #f0f8ff;}#sk-container-id-1 div.sk-toggleable__content pre {margin: 0.2em;color: black;border-radius: 0.25em;background-color: #f0f8ff;}#sk-container-id-1 input.sk-toggleable__control:checked~div.sk-toggleable__content {max-height: 200px;max-width: 100%;overflow: auto;}#sk-container-id-1 input.sk-toggleable__control:checked~label.sk-toggleable__label-arrow:before {content: \"▾\";}#sk-container-id-1 div.sk-estimator input.sk-toggleable__control:checked~label.sk-toggleable__label {background-color: #d4ebff;}#sk-container-id-1 div.sk-label input.sk-toggleable__control:checked~label.sk-toggleable__label {background-color: #d4ebff;}#sk-container-id-1 input.sk-hidden--visually {border: 0;clip: rect(1px 1px 1px 1px);clip: rect(1px, 1px, 1px, 1px);height: 1px;margin: -1px;overflow: hidden;padding: 0;position: absolute;width: 1px;}#sk-container-id-1 div.sk-estimator {font-family: monospace;background-color: #f0f8ff;border: 1px dotted black;border-radius: 0.25em;box-sizing: border-box;margin-bottom: 0.5em;}#sk-container-id-1 div.sk-estimator:hover {background-color: #d4ebff;}#sk-container-id-1 div.sk-parallel-item::after {content: \"\";width: 100%;border-bottom: 1px solid gray;flex-grow: 1;}#sk-container-id-1 div.sk-label:hover label.sk-toggleable__label {background-color: #d4ebff;}#sk-container-id-1 div.sk-serial::before {content: \"\";position: absolute;border-left: 1px solid gray;box-sizing: border-box;top: 0;bottom: 0;left: 50%;z-index: 0;}#sk-container-id-1 div.sk-serial {display: flex;flex-direction: column;align-items: center;background-color: white;padding-right: 0.2em;padding-left: 0.2em;position: relative;}#sk-container-id-1 div.sk-item {position: relative;z-index: 1;}#sk-container-id-1 div.sk-parallel {display: flex;align-items: stretch;justify-content: center;background-color: white;position: relative;}#sk-container-id-1 div.sk-item::before, #sk-container-id-1 div.sk-parallel-item::before {content: \"\";position: absolute;border-left: 1px solid gray;box-sizing: border-box;top: 0;bottom: 0;left: 50%;z-index: -1;}#sk-container-id-1 div.sk-parallel-item {display: flex;flex-direction: column;z-index: 1;position: relative;background-color: white;}#sk-container-id-1 div.sk-parallel-item:first-child::after {align-self: flex-end;width: 50%;}#sk-container-id-1 div.sk-parallel-item:last-child::after {align-self: flex-start;width: 50%;}#sk-container-id-1 div.sk-parallel-item:only-child::after {width: 0;}#sk-container-id-1 div.sk-dashed-wrapped {border: 1px dashed gray;margin: 0 0.4em 0.5em 0.4em;box-sizing: border-box;padding-bottom: 0.4em;background-color: white;}#sk-container-id-1 div.sk-label label {font-family: monospace;font-weight: bold;display: inline-block;line-height: 1.2em;}#sk-container-id-1 div.sk-label-container {text-align: center;}#sk-container-id-1 div.sk-container {/* jupyter's `normalize.less` sets `[hidden] { display: none; }` but bootstrap.min.css set `[hidden] { display: none !important; }` so we also need the `!important` here to be able to override the default hidden behavior on the sphinx rendered scikit-learn.org. See: https://github.com/scikit-learn/scikit-learn/issues/21755 */display: inline-block !important;position: relative;}#sk-container-id-1 div.sk-text-repr-fallback {display: none;}</style><div id=\"sk-container-id-1\" class=\"sk-top-container\"><div class=\"sk-text-repr-fallback\"><pre>DecisionTreeClassifier(criterion=&#x27;entropy&#x27;, max_depth=100)</pre><b>In a Jupyter environment, please rerun this cell to show the HTML representation or trust the notebook. <br />On GitHub, the HTML representation is unable to render, please try loading this page with nbviewer.org.</b></div><div class=\"sk-container\" hidden><div class=\"sk-item\"><div class=\"sk-estimator sk-toggleable\"><input class=\"sk-toggleable__control sk-hidden--visually\" id=\"sk-estimator-id-1\" type=\"checkbox\" checked><label for=\"sk-estimator-id-1\" class=\"sk-toggleable__label sk-toggleable__label-arrow\">DecisionTreeClassifier</label><div class=\"sk-toggleable__content\"><pre>DecisionTreeClassifier(criterion=&#x27;entropy&#x27;, max_depth=100)</pre></div></div></div></div></div>"
            ]
          },
          "metadata": {},
          "execution_count": 4
        }
      ]
    },
    {
      "cell_type": "markdown",
      "source": [
        "Next, I generate a predutions of the test set. \n",
        "Then use 'sklearn.metrics import accuracy_score' to the accuracy_score to calulate the accuracy of the decision tree classifier on the test set."
      ],
      "metadata": {
        "id": "w9Vkxt3hLnms"
      }
    },
    {
      "cell_type": "code",
      "source": [
        "# Generate predictions on the test set\n",
        "bach_test_pred = clf.predict(bach_test_features)\n",
        "\n",
        "# Calculate accuracy of the model on the test set\n",
        "\n",
        "from sklearn.metrics import accuracy_score\n",
        "predictions = clf.predict( bach_test_features)\n",
        "accuracy_score(bach_test_labels, predictions)"
      ],
      "metadata": {
        "colab": {
          "base_uri": "https://localhost:8080/"
        },
        "id": "Lk5TzoX2BoZR",
        "outputId": "a12e1d53-2deb-4fc8-9162-ce50eba0bad2"
      },
      "execution_count": 19,
      "outputs": [
        {
          "output_type": "execute_result",
          "data": {
            "text/plain": [
              "0.7202118270079435"
            ]
          },
          "metadata": {},
          "execution_count": 19
        }
      ]
    },
    {
      "cell_type": "code",
      "source": [],
      "metadata": {
        "id": "MZTwQ4DbQQDR"
      },
      "execution_count": null,
      "outputs": []
    },
    {
      "cell_type": "code",
      "source": [
        "# Split data into train and test sets\n",
        "from sklearn.model_selection import train_test_split\n",
        "bach_train_features, bach_test_features, bach_train_labels, bach_test_labels = train_test_split(bf, bl, test_size = 0.2, random_state=50)\n",
        "\n",
        "\n",
        "clf = DecisionTreeClassifier(criterion='entropy',max_depth=100)\n",
        "clf.fit(bach_train_features, bach_train_labels)\n",
        "\n",
        "from sklearn.model_selection import cross_val_score\n",
        "play=cross_val_score(clf, bach_train_features, bach_train_labels, cv=10)\n",
        "play"
      ],
      "metadata": {
        "colab": {
          "base_uri": "https://localhost:8080/"
        },
        "id": "wvluznPJe6UQ",
        "outputId": "011efb90-e555-4f59-8959-b9fb1e19919d"
      },
      "execution_count": 24,
      "outputs": [
        {
          "output_type": "stream",
          "name": "stderr",
          "text": [
            "/usr/local/lib/python3.9/dist-packages/sklearn/model_selection/_split.py:700: UserWarning: The least populated class in y has only 1 members, which is less than n_splits=10.\n",
            "  warnings.warn(\n"
          ]
        },
        {
          "output_type": "execute_result",
          "data": {
            "text/plain": [
              "array([0.7753304 , 0.72907489, 0.72626932, 0.70198675, 0.7593819 ,\n",
              "       0.7218543 , 0.73509934, 0.72626932, 0.72626932, 0.69094923])"
            ]
          },
          "metadata": {},
          "execution_count": 24
        }
      ]
    }
  ]
}